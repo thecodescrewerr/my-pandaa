{
 "cells": [
  {
   "cell_type": "code",
   "execution_count": 4,
   "id": "eaaffa2e-8c13-4500-b416-103f562b3ef8",
   "metadata": {},
   "outputs": [
    {
     "name": "stdout",
     "output_type": "stream",
     "text": [
      "Linear Regression - R²:  -0.023988645884685855\n",
      "Linear Regression - MSE:  6.953703083769445\n",
      "Ridge Regression - R²:  -0.02392709167459106\n",
      "Ridge Regression - MSE:  6.9532850813801845\n",
      "Lasso Regression - R²:  -0.0030426763341608876\n",
      "Lasso Regression - MSE:  6.811463173550334\n"
     ]
    }
   ],
   "source": [
    "# Importing Libraries\n",
    "import pandas as pd\n",
    "import seaborn as sns\n",
    "import matplotlib.pyplot as plt\n",
    "from sklearn.model_selection import train_test_split\n",
    "from sklearn.linear_model import LinearRegression, Ridge, Lasso\n",
    "from sklearn.preprocessing import StandardScaler\n",
    "from sklearn.metrics import mean_squared_error, r2_score\n",
    "from sklearn.impute import SimpleImputer\n",
    "\n",
    "# Load the dataset again\n",
    "df = pd.read_csv(\"C:/Users/kondu/Downloads/Day(1)/day1_updated_mental_health.xls\")\n",
    "\n",
    "# Feature Engineering: Encoding and Scaling\n",
    "\n",
    "# Encoding categorical columns (e.g., 'Gender', 'Country', 'JobRole', 'Department', etc.)\n",
    "df = pd.get_dummies(df, columns=['Gender', 'Country', 'JobRole', 'Department', 'RemoteWork', 'HasMentalHealthSupport', 'HasTherapyAccess', 'SalaryRange'], drop_first=True)\n",
    "\n",
    "# Scaling numerical columns\n",
    "scaler = StandardScaler()\n",
    "numerical_cols = ['Age', 'WorkHoursPerWeek', 'StressLevel', 'ProductivityScore', 'SleepHours', 'PhysicalActivityHrs', 'ManagerSupportScore', 'MentalHealthDaysOff', 'WorkLifeBalanceScore', 'CareerGrowthScore']\n",
    "df[numerical_cols] = scaler.fit_transform(df[numerical_cols])\n",
    "\n",
    "# Define X and y\n",
    "X = df.drop(['BurnoutLevel', 'BurnoutRisk', 'EmployeeID'], axis=1)  # Drop target variable and identifier\n",
    "y = df['BurnoutLevel']\n",
    "\n",
    "# Train-test split\n",
    "X_train, X_test, y_train, y_test = train_test_split(X, y, test_size=0.2, random_state=42)\n",
    "\n",
    "# Train Models\n",
    "\n",
    "# Linear Regression\n",
    "linear_model = LinearRegression()\n",
    "linear_model.fit(X_train, y_train)\n",
    "y_pred_linear = linear_model.predict(X_test)\n",
    "\n",
    "# Ridge Regression\n",
    "ridge_model = Ridge(alpha=1)\n",
    "ridge_model.fit(X_train, y_train)\n",
    "y_pred_ridge = ridge_model.predict(X_test)\n",
    "\n",
    "# Lasso Regression\n",
    "lasso_model = Lasso(alpha=0.1)\n",
    "lasso_model.fit(X_train, y_train)\n",
    "y_pred_lasso = lasso_model.predict(X_test)\n",
    "\n",
    "# Evaluate Models\n",
    "\n",
    "print(\"Linear Regression - R²: \", r2_score(y_test, y_pred_linear))\n",
    "print(\"Linear Regression - MSE: \", mean_squared_error(y_test, y_pred_linear))\n",
    "\n",
    "print(\"Ridge Regression - R²: \", r2_score(y_test, y_pred_ridge))\n",
    "print(\"Ridge Regression - MSE: \", mean_squared_error(y_test, y_pred_ridge))\n",
    "\n",
    "print(\"Lasso Regression - R²: \", r2_score(y_test, y_pred_lasso))\n",
    "print(\"Lasso Regression - MSE: \", mean_squared_error(y_test, y_pred_lasso))"
   ]
  },
  {
   "cell_type": "code",
   "execution_count": 5,
   "id": "12692270-aae0-4644-bea8-c62c5379cd04",
   "metadata": {},
   "outputs": [
    {
     "name": "stdout",
     "output_type": "stream",
     "text": [
      "✅ Day 2 updated dataset saved as 'day2_updated_mental_health.csv'\n"
     ]
    }
   ],
   "source": [
    "# Save the cleaned or processed dataset\n",
    "df.to_csv(\"day2_updated_mental_health.csv\", index=False)\n",
    "print(\"✅ Day 2 updated dataset saved as 'day2_updated_mental_health.csv'\")\n"
   ]
  },
  {
   "cell_type": "code",
   "execution_count": 6,
   "id": "a6f7810d-0d40-42c5-965d-85d4afffc8be",
   "metadata": {},
   "outputs": [
    {
     "data": {
      "text/html": [
       "<a href='day2_updated_mental_health.csv' target='_blank'>day2_updated_mental_health.csv</a><br>"
      ],
      "text/plain": [
       "C:\\Users\\kondu\\day2_updated_mental_health.csv"
      ]
     },
     "execution_count": 6,
     "metadata": {},
     "output_type": "execute_result"
    }
   ],
   "source": [
    "from IPython.display import FileLink\n",
    "\n",
    "# Provide download link\n",
    "FileLink(\"day2_updated_mental_health.csv\")\n"
   ]
  },
  {
   "cell_type": "code",
   "execution_count": null,
   "id": "e7a6187f-02b6-466c-b929-734db447fdda",
   "metadata": {},
   "outputs": [],
   "source": []
  }
 ],
 "metadata": {
  "kernelspec": {
   "display_name": "Python 3 (ipykernel)",
   "language": "python",
   "name": "python3"
  },
  "language_info": {
   "codemirror_mode": {
    "name": "ipython",
    "version": 3
   },
   "file_extension": ".py",
   "mimetype": "text/x-python",
   "name": "python",
   "nbconvert_exporter": "python",
   "pygments_lexer": "ipython3",
   "version": "3.12.4"
  }
 },
 "nbformat": 4,
 "nbformat_minor": 5
}
