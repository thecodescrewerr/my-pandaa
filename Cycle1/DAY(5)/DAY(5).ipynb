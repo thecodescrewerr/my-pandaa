{
 "cells": [
  {
   "cell_type": "code",
   "execution_count": 5,
   "id": "b57b6485-ee41-452b-b8d5-6ff2b9e8f71c",
   "metadata": {},
   "outputs": [
    {
     "name": "stdout",
     "output_type": "stream",
     "text": [
      "Model Comparison:\n",
      "            Model  Train Accuracy  Test Accuracy  ROC-AUC\n",
      "0  Decision Tree           1.000          0.553    0.500\n",
      "1  Random Forest           1.000          0.663    0.500\n",
      "2           k-NN           0.748          0.590    0.516\n"
     ]
    },
    {
     "data": {
      "image/png": "[encoded data removed]",
      "text/plain": [
       "<Figure size 800x500 with 1 Axes>"
      ]
     },
     "metadata": {},
     "output_type": "display_data"
    }
   ],
   "source": [
    "#Imports\n",
    "import pandas as pd\n",
    "from sklearn.model_selection import train_test_split\n",
    "from sklearn.tree import DecisionTreeClassifier\n",
    "from sklearn.ensemble import RandomForestClassifier\n",
    "from sklearn.neighbors import KNeighborsClassifier\n",
    "from sklearn.metrics import accuracy_score, roc_auc_score\n",
    "import matplotlib.pyplot as plt\n",
    "\n",
    "#Load the updated dataset\n",
    "df = pd.read_csv(\"C:/Users/kondu/Downloads/day4_updated_mental_health.csv\")\n",
    "\n",
    "#Define X and y\n",
    "X = df.drop(columns=['BurnoutLevel', 'BurnoutRisk', 'EmployeeID'], errors='ignore')\n",
    "y = df['BurnoutRisk']\n",
    "\n",
    "#Train-Test Split\n",
    "X_train, X_test, y_train, y_test = train_test_split(X, y, test_size=0.2, random_state=42)\n",
    "\n",
    "#Initialize Models\n",
    "models = {\n",
    "    'Decision Tree': DecisionTreeClassifier(random_state=42),\n",
    "    'Random Forest': RandomForestClassifier(random_state=42),\n",
    "    'k-NN': KNeighborsClassifier(n_neighbors=5)\n",
    "}\n",
    "\n",
    "results = []\n",
    "\n",
    "#Train & Evaluate\n",
    "for name, model in models.items():\n",
    "    model.fit(X_train, y_train)\n",
    "    y_pred = model.predict(X_test)\n",
    "    y_pred_prob = model.predict_proba(X_test)[:, 1]\n",
    "\n",
    "    train_acc = model.score(X_train, y_train)\n",
    "    test_acc = accuracy_score(y_test, y_pred)\n",
    "    roc_auc = roc_auc_score(y_test, y_pred_prob)\n",
    "\n",
    "    results.append({\n",
    "        'Model': name,\n",
    "        'Train Accuracy': round(train_acc, 3),\n",
    "        'Test Accuracy': round(test_acc, 3),\n",
    "        'ROC-AUC': round(roc_auc, 3)\n",
    "    })\n",
    "\n",
    "#Create summary DataFrame\n",
    "summary_df = pd.DataFrame(results)\n",
    "print(\"Model Comparison:\\n\", summary_df)\n",
    "\n",
    "#Plot ROC-AUC Comparison\n",
    "plt.figure(figsize=(8, 5))\n",
    "plt.bar(summary_df['Model'], summary_df['ROC-AUC'], color='skyblue')\n",
    "plt.title(\"ROC-AUC Comparison\")\n",
    "plt.ylabel(\"ROC-AUC Score\")\n",
    "plt.ylim(0, 1)\n",
    "plt.grid(axis='y')\n",
    "plt.show()\n"
   ]
  },
  {
   "cell_type": "code",
   "execution_count": 6,
   "id": "8a733050-89ba-4fd0-96ec-ae7387d937ae",
   "metadata": {},
   "outputs": [
    {
     "name": "stdout",
     "output_type": "stream",
     "text": [
      "Day 5 updated dataset saved successfully.\n"
     ]
    },
    {
     "data": {
      "text/html": [
       "<a href='day5_updated_mental_health.csv' target='_blank'>day5_updated_mental_health.csv</a><br>"
      ],
      "text/plain": [
       "C:\\Users\\kondu\\day5_updated_mental_health.csv"
      ]
     },
     "execution_count": 6,
     "metadata": {},
     "output_type": "execute_result"
    }
   ],
   "source": [
    "import pandas as pd\n",
    "from IPython.display import FileLink\n",
    "output_path = \"day5_updated_mental_health.csv\"\n",
    "df.to_csv(output_path, index=False)\n",
    "\n",
    "print(\"Day 5 updated dataset saved successfully.\")\n",
    "FileLink(output_path)\n"
   ]
  },
  {
   "cell_type": "code",
   "execution_count": null,
   "id": "be4f726e-a2a0-4335-9036-5723ee317d7b",
   "metadata": {},
   "outputs": [],
   "source": []
  }
 ],
 "metadata": {
  "kernelspec": {
   "display_name": "Python 3 (ipykernel)",
   "language": "python",
   "name": "python3"
  },
  "language_info": {
   "codemirror_mode": {
    "name": "ipython",
    "version": 3
   },
   "file_extension": ".py",
   "mimetype": "text/x-python",
   "name": "python",
   "nbconvert_exporter": "python",
   "pygments_lexer": "ipython3",
   "version": "3.12.4"
  }
 },
 "nbformat": 4,
 "nbformat_minor": 5
}
