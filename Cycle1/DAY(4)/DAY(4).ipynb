{
 "cells": [
  {
   "cell_type": "code",
   "execution_count": 11,
   "id": "b8cc7721-15a7-42f3-be29-0c66a831aac2",
   "metadata": {},
   "outputs": [
    {
     "name": "stdout",
     "output_type": "stream",
     "text": [
      "📌 Decision Tree - Accuracy: 0.5533333333333333\n",
      "📌 Decision Tree - ROC-AUC : 0.4999812965248943\n",
      "📌 Random Forest - Accuracy: 0.6633333333333333\n",
      "📌 Random Forest - ROC-AUC : 0.5000124689834038\n",
      "📌 k-NN - Accuracy: 0.58\n",
      "📌 k-NN - ROC-AUC : 0.5112407885385105\n",
      "Selected Features shape: (3000, 5)\n"
     ]
    },
    {
     "name": "stderr",
     "output_type": "stream",
     "text": [
      "C:\\Users\\kondu\\anaconda3\\Lib\\site-packages\\sklearn\\base.py:486: UserWarning: X has feature names, but SelectFromModel was fitted without feature names\n",
      "  warnings.warn(\n"
     ]
    }
   ],
   "source": [
    "# 📦 Importing Libraries\n",
    "import pandas as pd\n",
    "import matplotlib.pyplot as plt\n",
    "import seaborn as sns\n",
    "from sklearn.model_selection import train_test_split\n",
    "from sklearn.tree import DecisionTreeClassifier\n",
    "from sklearn.ensemble import RandomForestClassifier\n",
    "from sklearn.neighbors import KNeighborsClassifier\n",
    "from sklearn.metrics import accuracy_score, roc_auc_score\n",
    "from sklearn.feature_selection import SelectFromModel\n",
    "\n",
    "# 📂 Load the dataset\n",
    "df = pd.read_csv(\"C:/Users/kondu/Downloads/Day(3)/day3_updated_mental_health.csv\")\n",
    "\n",
    "# 🧠 Target columns for encoding\n",
    "target_cols = ['Gender', 'Country', 'JobRole', 'Department', 'RemoteWork',\n",
    "               'HasMentalHealthSupport', 'HasTherapyAccess', 'SalaryRange']\n",
    "\n",
    "# ✅ Check which columns exist before encoding\n",
    "cols_to_encode = [col for col in target_cols if col in df.columns]\n",
    "\n",
    "# 🧼 Apply one-hot encoding safely\n",
    "df = pd.get_dummies(df, columns=cols_to_encode, drop_first=True)\n",
    "\n",
    "# 🎯 Define Features and Target\n",
    "X = df.drop(columns=['BurnoutLevel', 'BurnoutRisk', 'EmployeeID'], errors='ignore')\n",
    "y = df['BurnoutRisk'].astype(int)  # Ensure target is numeric\n",
    "\n",
    "# 🔀 Train-test split\n",
    "X_train, X_test, y_train, y_test = train_test_split(X, y, test_size=0.2, random_state=42)\n",
    "\n",
    "# 🌳 Train Decision Tree\n",
    "tree_model = DecisionTreeClassifier(random_state=42)\n",
    "tree_model.fit(X_train, y_train)\n",
    "y_pred_tree = tree_model.predict(X_test)\n",
    "\n",
    "# 🌲 Train Random Forest\n",
    "rf_model = RandomForestClassifier(random_state=42)\n",
    "rf_model.fit(X_train, y_train)\n",
    "y_pred_rf = rf_model.predict(X_test)\n",
    "\n",
    "# 🔍 Train k-NN\n",
    "knn_model = KNeighborsClassifier(n_neighbors=3)\n",
    "knn_model.fit(X_train, y_train)\n",
    "y_pred_knn = knn_model.predict(X_test)\n",
    "\n",
    "# 📊 Evaluate All Models\n",
    "print(\"📌 Decision Tree - Accuracy:\", accuracy_score(y_test, y_pred_tree))\n",
    "print(\"📌 Decision Tree - ROC-AUC :\", roc_auc_score(y_test, tree_model.predict_proba(X_test)[:, 1]))\n",
    "\n",
    "print(\"📌 Random Forest - Accuracy:\", accuracy_score(y_test, y_pred_rf))\n",
    "print(\"📌 Random Forest - ROC-AUC :\", roc_auc_score(y_test, rf_model.predict_proba(X_test)[:, 1]))\n",
    "\n",
    "print(\"📌 k-NN - Accuracy:\", accuracy_score(y_test, y_pred_knn))\n",
    "print(\"📌 k-NN - ROC-AUC :\", roc_auc_score(y_test, knn_model.predict_proba(X_test)[:, 1]))\n",
    "\n",
    "# ⭐ Feature Selection using Random Forest\n",
    "selector = SelectFromModel(rf_model, threshold=\"mean\", max_features=5)\n",
    "X_selected = selector.transform(X)\n",
    "print(\"Selected Features shape:\", X_selected.shape)\n"
   ]
  },
  {
   "cell_type": "code",
   "execution_count": null,
   "id": "515daf1d-fa6f-45d1-936d-6c008195e6c0",
   "metadata": {},
   "outputs": [],
   "source": []
  }
 ],
 "metadata": {
  "kernelspec": {
   "display_name": "Python 3 (ipykernel)",
   "language": "python",
   "name": "python3"
  },
  "language_info": {
   "codemirror_mode": {
    "name": "ipython",
    "version": 3
   },
   "file_extension": ".py",
   "mimetype": "text/x-python",
   "name": "python",
   "nbconvert_exporter": "python",
   "pygments_lexer": "ipython3",
   "version": "3.12.4"
  }
 },
 "nbformat": 4,
 "nbformat_minor": 5
}
