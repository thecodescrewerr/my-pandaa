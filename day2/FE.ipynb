{
 "cells": [
  {
   "cell_type": "code",
   "execution_count": 9,
   "id": "c0eda8f9-16ee-43fd-9ff9-c57b775f567f",
   "metadata": {},
   "outputs": [
    {
     "name": "stdout",
     "output_type": "stream",
     "text": [
      "Collecting mlxtend\n",
      "  Using cached mlxtend-0.23.4-py3-none-any.whl.metadata (7.3 kB)\n",
      "Requirement already satisfied: scipy>=1.2.1 in c:\\users\\kondu\\anaconda3\\lib\\site-packages (from mlxtend) (1.13.1)\n",
      "Requirement already satisfied: numpy>=1.16.2 in c:\\users\\kondu\\anaconda3\\lib\\site-packages (from mlxtend) (1.26.4)\n",
      "Requirement already satisfied: pandas>=0.24.2 in c:\\users\\kondu\\anaconda3\\lib\\site-packages (from mlxtend) (2.2.2)\n",
      "Requirement already satisfied: scikit-learn>=1.3.1 in c:\\users\\kondu\\anaconda3\\lib\\site-packages (from mlxtend) (1.4.2)\n",
      "Requirement already satisfied: matplotlib>=3.0.0 in c:\\users\\kondu\\anaconda3\\lib\\site-packages (from mlxtend) (3.8.4)\n",
      "Requirement already satisfied: joblib>=0.13.2 in c:\\users\\kondu\\anaconda3\\lib\\site-packages (from mlxtend) (1.4.2)\n",
      "Requirement already satisfied: contourpy>=1.0.1 in c:\\users\\kondu\\anaconda3\\lib\\site-packages (from matplotlib>=3.0.0->mlxtend) (1.2.0)\n",
      "Requirement already satisfied: cycler>=0.10 in c:\\users\\kondu\\anaconda3\\lib\\site-packages (from matplotlib>=3.0.0->mlxtend) (0.11.0)\n",
      "Requirement already satisfied: fonttools>=4.22.0 in c:\\users\\kondu\\anaconda3\\lib\\site-packages (from matplotlib>=3.0.0->mlxtend) (4.51.0)\n",
      "Requirement already satisfied: kiwisolver>=1.3.1 in c:\\users\\kondu\\anaconda3\\lib\\site-packages (from matplotlib>=3.0.0->mlxtend) (1.4.4)\n",
      "Requirement already satisfied: packaging>=20.0 in c:\\users\\kondu\\anaconda3\\lib\\site-packages (from matplotlib>=3.0.0->mlxtend) (23.2)\n",
      "Requirement already satisfied: pillow>=8 in c:\\users\\kondu\\anaconda3\\lib\\site-packages (from matplotlib>=3.0.0->mlxtend) (10.3.0)\n",
      "Requirement already satisfied: pyparsing>=2.3.1 in c:\\users\\kondu\\anaconda3\\lib\\site-packages (from matplotlib>=3.0.0->mlxtend) (3.0.9)\n",
      "Requirement already satisfied: python-dateutil>=2.7 in c:\\users\\kondu\\anaconda3\\lib\\site-packages (from matplotlib>=3.0.0->mlxtend) (2.9.0.post0)\n",
      "Requirement already satisfied: pytz>=2020.1 in c:\\users\\kondu\\anaconda3\\lib\\site-packages (from pandas>=0.24.2->mlxtend) (2024.1)\n",
      "Requirement already satisfied: tzdata>=2022.7 in c:\\users\\kondu\\anaconda3\\lib\\site-packages (from pandas>=0.24.2->mlxtend) (2023.3)\n",
      "Requirement already satisfied: threadpoolctl>=2.0.0 in c:\\users\\kondu\\anaconda3\\lib\\site-packages (from scikit-learn>=1.3.1->mlxtend) (2.2.0)\n",
      "Requirement already satisfied: six>=1.5 in c:\\users\\kondu\\anaconda3\\lib\\site-packages (from python-dateutil>=2.7->matplotlib>=3.0.0->mlxtend) (1.16.0)\n",
      "Using cached mlxtend-0.23.4-py3-none-any.whl (1.4 MB)\n",
      "Installing collected packages: mlxtend\n",
      "Successfully installed mlxtend-0.23.4\n"
     ]
    }
   ],
   "source": [
    "!pip install mlxtend"
   ]
  },
  {
   "cell_type": "code",
   "execution_count": 1,
   "id": "7233f3fb-c1e3-45b3-aee5-9736bb7cda3d",
   "metadata": {},
   "outputs": [],
   "source": [
    "import pandas as pd\n",
    "import numpy as np\n",
    "from scipy import stats\n",
    "from mlxtend.preprocessing import minmax_scaling\n",
    "import seaborn as sns\n",
    "import matplotlib.pyplot as plt\n",
    "np.random.seed(0)\n"
   ]
  },
  {
   "cell_type": "code",
   "execution_count": 8,
   "id": "da57a8a5-e628-446b-9eb3-839f242be748",
   "metadata": {},
   "outputs": [
    {
     "data": {
      "text/html": [
       "<div>\n",
       "<style scoped>\n",
       "    .dataframe tbody tr th:only-of-type {\n",
       "        vertical-align: middle;\n",
       "    }\n",
       "\n",
       "    .dataframe tbody tr th {\n",
       "        vertical-align: top;\n",
       "    }\n",
       "\n",
       "    .dataframe thead th {\n",
       "        text-align: right;\n",
       "    }\n",
       "</style>\n",
       "<table border=\"1\" class=\"dataframe\">\n",
       "  <thead>\n",
       "    <tr style=\"text-align: right;\">\n",
       "      <th></th>\n",
       "      <th>EmployeeID</th>\n",
       "      <th>Age</th>\n",
       "      <th>Gender</th>\n",
       "      <th>Country</th>\n",
       "      <th>JobRole</th>\n",
       "      <th>Department</th>\n",
       "      <th>YearsAtCompany</th>\n",
       "      <th>WorkHoursPerWeek</th>\n",
       "      <th>RemoteWork</th>\n",
       "      <th>BurnoutLevel</th>\n",
       "      <th>...</th>\n",
       "      <th>CommuteTime</th>\n",
       "      <th>HasMentalHealthSupport</th>\n",
       "      <th>ManagerSupportScore</th>\n",
       "      <th>HasTherapyAccess</th>\n",
       "      <th>MentalHealthDaysOff</th>\n",
       "      <th>SalaryRange</th>\n",
       "      <th>WorkLifeBalanceScore</th>\n",
       "      <th>TeamSize</th>\n",
       "      <th>CareerGrowthScore</th>\n",
       "      <th>BurnoutRisk</th>\n",
       "    </tr>\n",
       "  </thead>\n",
       "  <tbody>\n",
       "    <tr>\n",
       "      <th>0</th>\n",
       "      <td>1001</td>\n",
       "      <td>50</td>\n",
       "      <td>Male</td>\n",
       "      <td>UK</td>\n",
       "      <td>Sales Associate</td>\n",
       "      <td>HR</td>\n",
       "      <td>14</td>\n",
       "      <td>47</td>\n",
       "      <td>No</td>\n",
       "      <td>3.37</td>\n",
       "      <td>...</td>\n",
       "      <td>117</td>\n",
       "      <td>No</td>\n",
       "      <td>3.15</td>\n",
       "      <td>Yes</td>\n",
       "      <td>8</td>\n",
       "      <td>40K-60K</td>\n",
       "      <td>8.82</td>\n",
       "      <td>6</td>\n",
       "      <td>9.20</td>\n",
       "      <td>0</td>\n",
       "    </tr>\n",
       "    <tr>\n",
       "      <th>1</th>\n",
       "      <td>1002</td>\n",
       "      <td>36</td>\n",
       "      <td>Male</td>\n",
       "      <td>Germany</td>\n",
       "      <td>Software Engineer</td>\n",
       "      <td>IT</td>\n",
       "      <td>1</td>\n",
       "      <td>59</td>\n",
       "      <td>Hybrid</td>\n",
       "      <td>7.39</td>\n",
       "      <td>...</td>\n",
       "      <td>8</td>\n",
       "      <td>Yes</td>\n",
       "      <td>4.40</td>\n",
       "      <td>Yes</td>\n",
       "      <td>4</td>\n",
       "      <td>80K-100K</td>\n",
       "      <td>2.80</td>\n",
       "      <td>45</td>\n",
       "      <td>8.46</td>\n",
       "      <td>1</td>\n",
       "    </tr>\n",
       "    <tr>\n",
       "      <th>2</th>\n",
       "      <td>1003</td>\n",
       "      <td>29</td>\n",
       "      <td>Non-binary</td>\n",
       "      <td>India</td>\n",
       "      <td>IT Admin</td>\n",
       "      <td>IT</td>\n",
       "      <td>13</td>\n",
       "      <td>59</td>\n",
       "      <td>Hybrid</td>\n",
       "      <td>7.10</td>\n",
       "      <td>...</td>\n",
       "      <td>75</td>\n",
       "      <td>No</td>\n",
       "      <td>3.63</td>\n",
       "      <td>No</td>\n",
       "      <td>6</td>\n",
       "      <td>80K-100K</td>\n",
       "      <td>7.28</td>\n",
       "      <td>7</td>\n",
       "      <td>7.96</td>\n",
       "      <td>1</td>\n",
       "    </tr>\n",
       "    <tr>\n",
       "      <th>3</th>\n",
       "      <td>1004</td>\n",
       "      <td>42</td>\n",
       "      <td>Male</td>\n",
       "      <td>Australia</td>\n",
       "      <td>HR Specialist</td>\n",
       "      <td>IT</td>\n",
       "      <td>15</td>\n",
       "      <td>31</td>\n",
       "      <td>Yes</td>\n",
       "      <td>4.18</td>\n",
       "      <td>...</td>\n",
       "      <td>43</td>\n",
       "      <td>Yes</td>\n",
       "      <td>4.50</td>\n",
       "      <td>Yes</td>\n",
       "      <td>9</td>\n",
       "      <td>60K-80K</td>\n",
       "      <td>1.31</td>\n",
       "      <td>11</td>\n",
       "      <td>8.90</td>\n",
       "      <td>0</td>\n",
       "    </tr>\n",
       "    <tr>\n",
       "      <th>4</th>\n",
       "      <td>1005</td>\n",
       "      <td>40</td>\n",
       "      <td>Male</td>\n",
       "      <td>Brazil</td>\n",
       "      <td>Customer Support</td>\n",
       "      <td>Support</td>\n",
       "      <td>6</td>\n",
       "      <td>34</td>\n",
       "      <td>Yes</td>\n",
       "      <td>8.28</td>\n",
       "      <td>...</td>\n",
       "      <td>58</td>\n",
       "      <td>Yes</td>\n",
       "      <td>5.51</td>\n",
       "      <td>Yes</td>\n",
       "      <td>6</td>\n",
       "      <td>&lt;40K</td>\n",
       "      <td>1.17</td>\n",
       "      <td>18</td>\n",
       "      <td>8.88</td>\n",
       "      <td>1</td>\n",
       "    </tr>\n",
       "  </tbody>\n",
       "</table>\n",
       "<p>5 rows × 25 columns</p>\n",
       "</div>"
      ],
      "text/plain": [
       "   EmployeeID  Age      Gender    Country            JobRole Department  \\\n",
       "0        1001   50        Male         UK    Sales Associate         HR   \n",
       "1        1002   36        Male    Germany  Software Engineer         IT   \n",
       "2        1003   29  Non-binary      India           IT Admin         IT   \n",
       "3        1004   42        Male  Australia      HR Specialist         IT   \n",
       "4        1005   40        Male     Brazil   Customer Support    Support   \n",
       "\n",
       "   YearsAtCompany  WorkHoursPerWeek RemoteWork  BurnoutLevel  ...  \\\n",
       "0              14                47         No          3.37  ...   \n",
       "1               1                59     Hybrid          7.39  ...   \n",
       "2              13                59     Hybrid          7.10  ...   \n",
       "3              15                31        Yes          4.18  ...   \n",
       "4               6                34        Yes          8.28  ...   \n",
       "\n",
       "   CommuteTime  HasMentalHealthSupport  ManagerSupportScore  HasTherapyAccess  \\\n",
       "0          117                      No                 3.15               Yes   \n",
       "1            8                     Yes                 4.40               Yes   \n",
       "2           75                      No                 3.63                No   \n",
       "3           43                     Yes                 4.50               Yes   \n",
       "4           58                     Yes                 5.51               Yes   \n",
       "\n",
       "   MentalHealthDaysOff  SalaryRange WorkLifeBalanceScore  TeamSize  \\\n",
       "0                    8      40K-60K                 8.82         6   \n",
       "1                    4     80K-100K                 2.80        45   \n",
       "2                    6     80K-100K                 7.28         7   \n",
       "3                    9      60K-80K                 1.31        11   \n",
       "4                    6         <40K                 1.17        18   \n",
       "\n",
       "  CareerGrowthScore  BurnoutRisk  \n",
       "0              9.20            0  \n",
       "1              8.46            1  \n",
       "2              7.96            1  \n",
       "3              8.90            0  \n",
       "4              8.88            1  \n",
       "\n",
       "[5 rows x 25 columns]"
      ]
     },
     "execution_count": 8,
     "metadata": {},
     "output_type": "execute_result"
    }
   ],
   "source": [
    "import pandas as pd\n",
    "\n",
    "# Load the dataset\n",
    "df = pd.read_csv(\"C:/Users/kondu/Downloads/day1/updated_mental_health_dataset.csv\")\n",
    "\n",
    "# Quick preview\n",
    "df.head()\n"
   ]
  },
  {
   "cell_type": "code",
   "execution_count": 9,
   "id": "93a66e79-a893-445d-bd38-cec16331c6b4",
   "metadata": {},
   "outputs": [
    {
     "name": "stdout",
     "output_type": "stream",
     "text": [
      "✅ Encoding completed.\n"
     ]
    }
   ],
   "source": [
    "df_encoded = pd.get_dummies(df, drop_first=True)\n",
    "\n",
    "print(\"✅ Encoding completed.\")\n"
   ]
  },
  {
   "cell_type": "code",
   "execution_count": 10,
   "id": "f6352487-c565-469e-9c00-f51b17b2d5ce",
   "metadata": {},
   "outputs": [
    {
     "name": "stdout",
     "output_type": "stream",
     "text": [
      "✅ Scaling completed.\n"
     ]
    }
   ],
   "source": [
    "from sklearn.preprocessing import MinMaxScaler\n",
    "\n",
    "scaler = MinMaxScaler()\n",
    "scaled_array = scaler.fit_transform(df_encoded)\n",
    "\n",
    "df_scaled = pd.DataFrame(scaled_array, columns=df_encoded.columns)\n",
    "\n",
    "print(\"✅ Scaling completed.\")\n",
    "\n"
   ]
  },
  {
   "cell_type": "code",
   "execution_count": 11,
   "id": "3a8277bc-b67e-4f58-9aed-a5bf55e5dca6",
   "metadata": {},
   "outputs": [
    {
     "name": "stdout",
     "output_type": "stream",
     "text": [
      "Top 10 correlated features with BurnoutRisk:\n",
      " ['BurnoutLevel', 'EmployeeID', 'SalaryRange_60K-80K', 'CommuteTime', 'JobRole_IT Admin', 'JobRole_Software Engineer', 'ManagerSupportScore', 'JobRole_HR Specialist', 'Department_Support', 'JobRole_Project Manager']\n"
     ]
    }
   ],
   "source": [
    "corr_matrix = df_scaled.corr()\n",
    "correlation_with_target = corr_matrix['BurnoutRisk'].abs().sort_values(ascending=False)\n",
    "\n",
    "top_features = correlation_with_target[1:11].index\n",
    "print(\"Top 10 correlated features with BurnoutRisk:\\n\", top_features.tolist())\n"
   ]
  },
  {
   "cell_type": "code",
   "execution_count": 13,
   "id": "3bd38670-25a1-466d-b8cb-35163cd3ec7a",
   "metadata": {},
   "outputs": [],
   "source": [
    "from sklearn.model_selection import train_test_split\n",
    "\n",
    "X = df_scaled[top_features]\n",
    "y = df_scaled['BurnoutRisk']\n",
    "\n",
    "X_train, X_test, y_train, y_test = train_test_split(X, y, test_size=0.2, random_state=42)\n"
   ]
  },
  {
   "cell_type": "code",
   "execution_count": 14,
   "id": "5f672491-ecba-4f29-9f96-bc69c0f03b1f",
   "metadata": {},
   "outputs": [
    {
     "name": "stdout",
     "output_type": "stream",
     "text": [
      "🔹 Linear Regression:\n",
      "MSE: 0.07355653611629898\n",
      "MAE: 0.22971724762800813\n",
      "R²: 0.6698169178933948\n"
     ]
    }
   ],
   "source": [
    "from sklearn.linear_model import LinearRegression\n",
    "from sklearn.metrics import mean_squared_error, mean_absolute_error, r2_score\n",
    "\n",
    "lr = LinearRegression()\n",
    "lr.fit(X_train, y_train)\n",
    "y_pred_lr = lr.predict(X_test)\n",
    "\n",
    "print(\"🔹 Linear Regression:\")\n",
    "print(\"MSE:\", mean_squared_error(y_test, y_pred_lr))\n",
    "print(\"MAE:\", mean_absolute_error(y_test, y_pred_lr))\n",
    "print(\"R²:\", r2_score(y_test, y_pred_lr))\n"
   ]
  },
  {
   "cell_type": "code",
   "execution_count": 15,
   "id": "75de5ea7-4634-46dd-ba35-c58c3ea16a52",
   "metadata": {},
   "outputs": [
    {
     "name": "stdout",
     "output_type": "stream",
     "text": [
      "🔹 Ridge Regression:\n",
      "MSE: 0.07355423038237364\n",
      "MAE: 0.22994929480875753\n",
      "R²: 0.6698272679502923\n"
     ]
    }
   ],
   "source": [
    "from sklearn.linear_model import Ridge\n",
    "\n",
    "ridge = Ridge(alpha=1.0)\n",
    "ridge.fit(X_train, y_train)\n",
    "y_pred_ridge = ridge.predict(X_test)\n",
    "\n",
    "print(\"🔹 Ridge Regression:\")\n",
    "print(\"MSE:\", mean_squared_error(y_test, y_pred_ridge))\n",
    "print(\"MAE:\", mean_absolute_error(y_test, y_pred_ridge))\n",
    "print(\"R²:\", r2_score(y_test, y_pred_ridge))\n"
   ]
  },
  {
   "cell_type": "code",
   "execution_count": 16,
   "id": "9515cb0e-a1ab-465a-bc5f-0aa99ac80cfa",
   "metadata": {},
   "outputs": [
    {
     "name": "stdout",
     "output_type": "stream",
     "text": [
      "🔹 Lasso Regression:\n",
      "MSE: 0.07499627236906953\n",
      "MAE: 0.23609135418962382\n",
      "R²: 0.6633541808144113\n"
     ]
    }
   ],
   "source": [
    "from sklearn.linear_model import Lasso\n",
    "\n",
    "lasso = Lasso(alpha=0.01)\n",
    "lasso.fit(X_train, y_train)\n",
    "y_pred_lasso = lasso.predict(X_test)\n",
    "\n",
    "print(\"🔹 Lasso Regression:\")\n",
    "print(\"MSE:\", mean_squared_error(y_test, y_pred_lasso))\n",
    "print(\"MAE:\", mean_absolute_error(y_test, y_pred_lasso))\n",
    "print(\"R²:\", r2_score(y_test, y_pred_lasso))\n"
   ]
  },
  {
   "cell_type": "code",
   "execution_count": null,
   "id": "7ef9aa77-afbd-4233-a946-dea0488673e1",
   "metadata": {},
   "outputs": [],
   "source": []
  }
 ],
 "metadata": {
  "kernelspec": {
   "display_name": "Python 3 (ipykernel)",
   "language": "python",
   "name": "python3"
  },
  "language_info": {
   "codemirror_mode": {
    "name": "ipython",
    "version": 3
   },
   "file_extension": ".py",
   "mimetype": "text/x-python",
   "name": "python",
   "nbconvert_exporter": "python",
   "pygments_lexer": "ipython3",
   "version": "3.12.4"
  }
 },
 "nbformat": 4,
 "nbformat_minor": 5
}
